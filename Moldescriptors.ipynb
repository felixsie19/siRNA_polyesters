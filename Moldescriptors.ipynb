{
 "cells": [
  {
   "cell_type": "code",
   "execution_count": 2,
   "id": "dfd17352-ecae-4d87-9253-defde056dbab",
   "metadata": {},
   "outputs": [],
   "source": [
    "import os\n",
    "import rdkit\n",
    "import mordred\n",
    "import pandas as pd\n",
    "from rdkit import Chem\n",
    "from rdkit.Chem import AllChem\n",
    "from rdkit.Chem import Descriptors\n",
    "from rdkit.Chem import rdMolDescriptors\n",
    "from rdkit.Chem import SDMolSupplier\n",
    "from mordred import Calculator, descriptors"
   ]
  },
  {
   "cell_type": "code",
   "execution_count": 3,
   "id": "1f1dd559-71b6-45ef-be0a-4d08fb33ac39",
   "metadata": {},
   "outputs": [
    {
     "name": "stdin",
     "output_type": "stream",
     "text": [
      "Enter the path to the folder containing .mol files:  /home/akm/Felix_ML/Moldescr_poly/siRNA_ML/New_revision_polymers\n",
      "Enter the path to the folder where sanitized files should be saved:  /home/akm/Felix_ML/Moldescr_poly/siRNA_ML/New_revision_polymers/cleaned\n"
     ]
    },
    {
     "name": "stdout",
     "output_type": "stream",
     "text": [
      "Sanitized molecule with force field saved to /home/akm/Felix_ML/Moldescr_poly/siRNA_ML/New_revision_polymers/cleaned/APmitacrylat_sanitized.mol\n",
      "Sanitized molecule with force field saved to /home/akm/Felix_ML/Moldescr_poly/siRNA_ML/New_revision_polymers/cleaned/OA_mitDA_sanitized.mol\n",
      "Sanitized molecule with force field saved to /home/akm/Felix_ML/Moldescr_poly/siRNA_ML/New_revision_polymers/cleaned/TBS mit buacrylat_sanitized.mol\n",
      "Sanitized molecule with force field saved to /home/akm/Felix_ML/Moldescr_poly/siRNA_ML/New_revision_polymers/cleaned/TBS mit acrylat_sanitized.mol\n",
      "Sanitized molecule with force field saved to /home/akm/Felix_ML/Moldescr_poly/siRNA_ML/New_revision_polymers/cleaned/OA_mitbuacrylate_sanitized.mol\n"
     ]
    }
   ],
   "source": [
    "def sanitize_add_hydrogens_and_force_field(mol_file, output_folder):\n",
    "    try:\n",
    "        mol = Chem.MolFromMolFile(mol_file, sanitize=False)\n",
    "        Chem.SanitizeMol(mol)\n",
    "        mol = Chem.AddHs(mol)\n",
    "        AllChem.EmbedMolecule(mol)\n",
    "        AllChem.MMFFOptimizeMolecule(mol)\n",
    "        output_file = os.path.splitext(os.path.basename(mol_file))[0] + '_sanitized.mol'\n",
    "        output_path = os.path.join(output_folder, output_file)\n",
    "        Chem.MolToMolFile(mol, output_path)\n",
    "        print(f\"Sanitized molecule with force field saved to {output_path}\")\n",
    "    except Exception as e:\n",
    "        print(f\"Error processing file {mol_file}: {e}\")\n",
    "\n",
    "def sanitize_folder(input_folder, output_folder):\n",
    "    if not os.path.exists(input_folder):\n",
    "        print(f\"Folder {input_folder} does not exist.\")\n",
    "        return\n",
    "    if not os.path.exists(output_folder):\n",
    "        os.makedirs(output_folder)\n",
    "    for file in os.listdir(input_folder):\n",
    "        if file.endswith(\".mol\"):\n",
    "            file_path = os.path.join(input_folder, file)\n",
    "            sanitize_add_hydrogens_and_force_field(file_path, output_folder)\n",
    "\n",
    "if __name__ == \"__main__\":\n",
    "    input_folder = input(\"Enter the path to the folder containing .mol files: \")\n",
    "    output_folder = input(\"Enter the path to the folder where sanitized files should be saved: \")\n",
    "    sanitize_folder(input_folder, output_folder)\n"
   ]
  },
  {
   "cell_type": "code",
   "execution_count": 4,
   "id": "f2d94c44-49a4-4d3a-9697-7031bc5355f5",
   "metadata": {},
   "outputs": [
    {
     "name": "stdin",
     "output_type": "stream",
     "text": [
      "Enter the path to the folder containing .mol files:  /home/akm/Felix_ML/Moldescr_poly/siRNA_ML/New_revision_polymers/cleaned\n"
     ]
    },
    {
     "name": "stdout",
     "output_type": "stream",
     "text": [
      "Descriptors saved to /home/akm/Felix_ML/Moldescr_poly/siRNA_ML/New_revision_polymers/cleaned/descriptors.xlsx\n"
     ]
    }
   ],
   "source": [
    "from rdkit.Chem import AllChem, Descriptors3D\n",
    "from rdkit.Chem import Descriptors\n",
    "from rdkit.Chem import rdMolDescriptors\n",
    "from rdkit.Chem.Descriptors3D import (\n",
    "        Asphericity,\n",
    "        Eccentricity,\n",
    "        InertialShapeFactor,\n",
    "        NPR1,\n",
    "        NPR2,\n",
    "        PMI1,\n",
    "        PMI2,\n",
    "        PMI3,\n",
    "        RadiusOfGyration,\n",
    "        SpherocityIndex,\n",
    "        PBF,\n",
    "    )\n",
    "\n",
    "DdescList_3D= [\n",
    "            (\"Asphericity\", Asphericity),\n",
    "            (\"Eccentricity\", Eccentricity),\n",
    "            (\"InertialShapeFactor\", InertialShapeFactor),\n",
    "            (\"NPR1\", NPR1),\n",
    "            (\"NPR2\", NPR2),\n",
    "            (\"PMI1\", PMI1),\n",
    "            (\"PMI2\", PMI2),\n",
    "            (\"PMI3\", PMI3),\n",
    "            (\"RadiusOfGyration\", RadiusOfGyration),\n",
    "            (\"SpherocityIndex\", SpherocityIndex),\n",
    "            (\"PBF\",PBF),\n",
    "        ]\n",
    "def calculate_descriptors(mol_file):\n",
    "    mol = Chem.MolFromMolFile(mol_file)\n",
    "    if mol is None:\n",
    "        return None\n",
    "    descriptors = {}\n",
    "    for desc_name, desc_func in Descriptors.descList:\n",
    "        try:\n",
    "            descriptors[desc_name] = desc_func(mol)\n",
    "        except Exception as e:\n",
    "            descriptors[desc_name] = None\n",
    "    for desc_name, desc_func in DdescList_3D:\n",
    "        try:\n",
    "            descriptors[desc_name] = desc_func(mol)\n",
    "        except Exception as e:\n",
    "            descriptors[desc_name] = None\n",
    "            \n",
    "    return descriptors\n",
    "\n",
    "def main(folder_path):\n",
    "    if not os.path.isdir(folder_path):\n",
    "        print(\"Folder does not exist.\")\n",
    "        return\n",
    "    mol_files = [f for f in os.listdir(folder_path) if f.endswith('.mol')]\n",
    "    descriptors_list = []\n",
    "    for mol_file in mol_files:\n",
    "        mol_file_path = os.path.join(folder_path, mol_file)\n",
    "        descriptors = calculate_descriptors(mol_file_path)\n",
    "        if descriptors:\n",
    "            filename = mol_file.replace('_sanitized', '')\n",
    "            descriptors['Filename'] = filename \n",
    "            descriptors_list.append(descriptors)\n",
    "    df = pd.DataFrame(descriptors_list)\n",
    "\n",
    "    cols = df.columns.tolist()\n",
    "    cols = ['Filename'] + [col for col in cols if col != 'Filename']\n",
    "    df = df[cols]\n",
    "\n",
    "    output_excel = os.path.join(folder_path, 'descriptors.xlsx')\n",
    "    df.to_excel(output_excel, index=False)\n",
    "    print(f\"Descriptors saved to {output_excel}\")\n",
    "\n",
    "if __name__ == \"__main__\":\n",
    "    folder_path = input(\"Enter the path to the folder containing .mol files: \")\n",
    "    main(folder_path)\n"
   ]
  }
 ],
 "metadata": {
  "kernelspec": {
   "display_name": "Python 3 (ipykernel)",
   "language": "python",
   "name": "python3"
  },
  "language_info": {
   "codemirror_mode": {
    "name": "ipython",
    "version": 3
   },
   "file_extension": ".py",
   "mimetype": "text/x-python",
   "name": "python",
   "nbconvert_exporter": "python",
   "pygments_lexer": "ipython3",
   "version": "3.11.5"
  }
 },
 "nbformat": 4,
 "nbformat_minor": 5
}
